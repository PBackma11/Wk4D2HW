{
 "cells": [
  {
   "cell_type": "code",
   "execution_count": 7,
   "id": "29f02030",
   "metadata": {},
   "outputs": [
    {
     "name": "stdout",
     "output_type": "stream",
     "text": [
      "['.', 'sentence', 'a', 'is', 'this']\n"
     ]
    }
   ],
   "source": [
    "EXERCISE 1\n",
    "\n",
    "\n",
    "words = ['this' , 'is', 'a', 'sentence', '.']\n",
    "\n",
    "def swap(words, v,w, x, y, z):\n",
    "    words[v],words[w],words[x],words[y],words[z] = words[z],words[y],words[x],words[w],words[v]\n",
    "    return words\n",
    "swap(words, 0, 1, 2, 3, 4)\n",
    "\n",
    "print(words)"
   ]
  },
  {
   "cell_type": "code",
   "execution_count": 8,
   "id": "8844d5b5",
   "metadata": {},
   "outputs": [
    {
     "name": "stdout",
     "output_type": "stream",
     "text": [
      "['.', 'sentence', 'a', 'is', 'this']\n"
     ]
    }
   ],
   "source": [
    "EXERCISE 1\n",
    "\n",
    "\n",
    "\n",
    "words = ['this' , 'is', 'a', 'sentence', '.']\n",
    "\n",
    "words_copy=words[::-1]\n",
    "print(words_copy)"
   ]
  },
  {
   "cell_type": "code",
   "execution_count": 9,
   "id": "14567351",
   "metadata": {},
   "outputs": [
    {
     "name": "stdout",
     "output_type": "stream",
     "text": [
      "['this', 'is', 'a', 'sentence', '.']\n",
      "['is', 'is', 'is', 'is', 'is']\n",
      "['.', 'sentence', 'a', 'is', 'is']\n"
     ]
    }
   ],
   "source": [
    "EXERCISE 1\n",
    "\n",
    "\n",
    "\n",
    "words = ['this' , 'is', 'a', 'sentence', '.']\n",
    "\n",
    "new_words = [words[1]] * len(words)\n",
    "\n",
    "print(words)\n",
    "print(new_words)\n",
    "length = len(words) - 1\n",
    "\n",
    "for i in range(length):\n",
    "    new_words[i] = words[length - i]\n",
    "    \n",
    "words = new_words\n",
    "print(words)\n"
   ]
  },
  {
   "cell_type": "code",
   "execution_count": null,
   "id": "285bb50b",
   "metadata": {},
   "outputs": [],
   "source": [
    "EXERCISE 1\n",
    "\n",
    "\n",
    "\n",
    "words = ['this' , 'is', 'the', 'song', 'that', 'never', 'ends', '.']\n",
    "def twoPointers(awords):\n",
    "    left = 0\n",
    "    right = len(awords) - 1\n",
    "    while left <= right:\n",
    "        awords[left], awords[right] = awords[right], awords[left]\n",
    "        left += 1\n",
    "        right -= 1\n",
    "    return awords\n",
    "print(\"In the beginning ...\", words)\n",
    "twoPointers(words)"
   ]
  },
  {
   "cell_type": "code",
   "execution_count": null,
   "id": "86d9280d",
   "metadata": {},
   "outputs": [],
   "source": []
  },
  {
   "cell_type": "code",
   "execution_count": 11,
   "id": "89112280",
   "metadata": {},
   "outputs": [
    {
     "name": "stdout",
     "output_type": "stream",
     "text": [
      "53\n",
      "37\n"
     ]
    }
   ],
   "source": [
    "###<-----EXERCISE 2----->###\n",
    "\n",
    "\n",
    "a_text = 'In computing, a hash table hash map is a data structure which implements an associative array abstract data type, a structure that can map keys to values. A hash table uses a hash function to compute an index into an array of buckets or slots from which the desired value can be found'\n",
    "\n",
    "\n",
    "words = a_text.split()\n",
    "print(len(words))\n",
    "\n",
    "u_list=list()\n",
    "u_words=0\n",
    "for word in words:\n",
    "    if word not in u_list:\n",
    "        u_list.append(word)\n",
    "        u_words += 1\n",
    "print(u_words)"
   ]
  },
  {
   "cell_type": "code",
   "execution_count": null,
   "id": "b892b503",
   "metadata": {},
   "outputs": [],
   "source": []
  },
  {
   "cell_type": "code",
   "execution_count": 38,
   "id": "851d3fd2",
   "metadata": {},
   "outputs": [
    {
     "name": "stdout",
     "output_type": "stream",
     "text": [
      "It's not here\n",
      "5516\n",
      "28\n",
      "5516\n",
      "83\n",
      "5516\n",
      "101\n",
      "5516\n",
      "207\n",
      "5516\n",
      "444\n",
      "5516\n",
      "555\n",
      "5516\n",
      "27\n",
      "5516\n",
      "589\n",
      "5516\n",
      "732\n",
      "5516\n",
      "809\n",
      "5516\n",
      "999\n",
      "5516\n",
      "2200\n",
      "5516\n",
      "55000\n"
     ]
    }
   ],
   "source": [
    "##EXERCISE 3##\n",
    "\n",
    "from random import randint \n",
    "\n",
    "my_list4 = [28, 83, 101, 207, 444, 555, 27, 589, 732, 809, 999, 2200, 55000]\n",
    "\n",
    "r_int = randint(0, 55000)\n",
    "if r_int in my_list4:\n",
    "    print(\"Its here\")\n",
    "else:\n",
    "    print(\"It's not here\")\n",
    "for num in my_list4:\n",
    "    print(r_int)\n",
    "    print(num)\n",
    "    "
   ]
  }
 ],
 "metadata": {
  "kernelspec": {
   "display_name": "Python 3 (ipykernel)",
   "language": "python",
   "name": "python3"
  },
  "language_info": {
   "codemirror_mode": {
    "name": "ipython",
    "version": 3
   },
   "file_extension": ".py",
   "mimetype": "text/x-python",
   "name": "python",
   "nbconvert_exporter": "python",
   "pygments_lexer": "ipython3",
   "version": "3.9.12"
  }
 },
 "nbformat": 4,
 "nbformat_minor": 5
}
